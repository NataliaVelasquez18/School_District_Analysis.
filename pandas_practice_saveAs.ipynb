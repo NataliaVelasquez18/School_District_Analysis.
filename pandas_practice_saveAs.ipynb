{
 "cells": [
  {
   "cell_type": "code",
   "execution_count": 1,
   "metadata": {},
   "outputs": [
    {
     "name": "stdout",
     "output_type": "stream",
     "text": [
      "Hernandez High School\n",
      "Figueroa High School\n",
      "Wilson High School\n",
      "Wright High School\n"
     ]
    }
   ],
   "source": [
    "#List of high schools\n",
    "high_schools = [\"Hernandez High School\", \"Figueroa High School\",\n",
    "                \"Wilson High School\",\"Wright High School\"]\n",
    "for school in high_schools:\n",
    "    print (school)"
   ]
  },
  {
   "cell_type": "code",
   "execution_count": 3,
   "metadata": {},
   "outputs": [
    {
     "name": "stdout",
     "output_type": "stream",
     "text": [
      "{'High School': 'Griffin', 'Type': 'District'}\n",
      "{'High School': 'Figueroa', 'Type': 'District'}\n",
      "{'High School': 'Wilson', 'Type': 'Charter'}\n",
      "{'High School': 'Wright', 'Type': 'Charter'}\n"
     ]
    }
   ],
   "source": [
    "#A dictionary of high schools and the type of school.\n",
    "high_school_types = [{\"High School\": \"Griffin\", \"Type\":\"District\"},\n",
    "                    {\"High School\": \"Figueroa\", \"Type\": \"District\"},\n",
    "                    {\"High School\": \"Wilson\", \"Type\": \"Charter\"},\n",
    "                    {\"High School\": \"Wright\", \"Type\": \"Charter\"}]\n",
    "for high_school_dict in high_school_types:\n",
    "    print(high_school_dict)"
   ]
  },
  {
   "cell_type": "code",
   "execution_count": 4,
   "metadata": {},
   "outputs": [],
   "source": [
    "#List of high schools\n",
    "high_schools = [\"Huang High School\",  \"Figueroa High School\", \"Shelton High School\", \"Hernandez High School\",\"Griffin High School\",\"Wilson High School\", \"Cabrera High School\", \"Bailey High School\", \"Holden High School\", \"Pena High School\", \"Wright High School\",\"Rodriguez High School\", \"Johnson High School\", \"Ford High School\", \"Thomas High School\"]\n"
   ]
  },
  {
   "cell_type": "code",
   "execution_count": 5,
   "metadata": {},
   "outputs": [],
   "source": [
    "#Add the Pandas dependency.\n",
    "import pandas as pd"
   ]
  },
  {
   "cell_type": "code",
   "execution_count": 6,
   "metadata": {},
   "outputs": [],
   "source": [
    "#Create a Pandas Series from a list.\n",
    "school_series = pd.Series(high_schools)\n",
    "#There is no output. To have an output we need to retrieve it by calling the variable school_series, like this:"
   ]
  },
  {
   "cell_type": "code",
   "execution_count": 7,
   "metadata": {},
   "outputs": [
    {
     "data": {
      "text/plain": [
       "0         Huang High School\n",
       "1      Figueroa High School\n",
       "2       Shelton High School\n",
       "3     Hernandez High School\n",
       "4       Griffin High School\n",
       "5        Wilson High School\n",
       "6       Cabrera High School\n",
       "7        Bailey High School\n",
       "8        Holden High School\n",
       "9          Pena High School\n",
       "10       Wright High School\n",
       "11    Rodriguez High School\n",
       "12      Johnson High School\n",
       "13         Ford High School\n",
       "14       Thomas High School\n",
       "dtype: object"
      ]
     },
     "execution_count": 7,
     "metadata": {},
     "output_type": "execute_result"
    }
   ],
   "source": [
    "#Create a Pandas Series from a list.\n",
    "school_series = pd.Series(high_schools)\n",
    "school_series"
   ]
  },
  {
   "cell_type": "code",
   "execution_count": 8,
   "metadata": {},
   "outputs": [
    {
     "name": "stdout",
     "output_type": "stream",
     "text": [
      "Huang High School\n",
      "Figueroa High School\n",
      "Shelton High School\n",
      "Hernandez High School\n",
      "Griffin High School\n",
      "Wilson High School\n",
      "Cabrera High School\n",
      "Bailey High School\n",
      "Holden High School\n",
      "Pena High School\n",
      "Wright High School\n",
      "Rodriguez High School\n",
      "Johnson High School\n",
      "Ford High School\n",
      "Thomas High School\n"
     ]
    }
   ],
   "source": [
    "#Skill drill: iterate through the school_series and print out each high school.\n",
    "for school in school_series:\n",
    "    print(school)"
   ]
  },
  {
   "cell_type": "code",
   "execution_count": null,
   "metadata": {},
   "outputs": [],
   "source": [
    "while school<15\n",
    "    print(school)"
   ]
  },
  {
   "cell_type": "code",
   "execution_count": 12,
   "metadata": {},
   "outputs": [],
   "source": [
    "#A dictionary of high schools\n",
    "high_school_dicts = [{\"School ID\": 0, \"school_name\": \"Huang High    School\", \"type\": \"District\"},\n",
    "                   {\"School ID\": 1, \"school_name\": \"Figueroa High School\", \"type\": \"District\"},\n",
    "                    {\"School ID\": 2, \"school_name\":\"Shelton High School\", \"type\": \"Charter\"},\n",
    "                    {\"School ID\": 3, \"school_name\":\"Hernandez High School\", \"type\": \"District\"},\n",
    "                    {\"School ID\": 4, \"school_name\":\"Griffin High School\", \"type\": \"Charter\"}]"
   ]
  },
  {
   "cell_type": "code",
   "execution_count": 14,
   "metadata": {},
   "outputs": [
    {
     "data": {
      "text/html": [
       "<div>\n",
       "<style scoped>\n",
       "    .dataframe tbody tr th:only-of-type {\n",
       "        vertical-align: middle;\n",
       "    }\n",
       "\n",
       "    .dataframe tbody tr th {\n",
       "        vertical-align: top;\n",
       "    }\n",
       "\n",
       "    .dataframe thead th {\n",
       "        text-align: right;\n",
       "    }\n",
       "</style>\n",
       "<table border=\"1\" class=\"dataframe\">\n",
       "  <thead>\n",
       "    <tr style=\"text-align: right;\">\n",
       "      <th></th>\n",
       "      <th>School ID</th>\n",
       "      <th>school_name</th>\n",
       "      <th>type</th>\n",
       "    </tr>\n",
       "  </thead>\n",
       "  <tbody>\n",
       "    <tr>\n",
       "      <th>0</th>\n",
       "      <td>0</td>\n",
       "      <td>Huang High    School</td>\n",
       "      <td>District</td>\n",
       "    </tr>\n",
       "    <tr>\n",
       "      <th>1</th>\n",
       "      <td>1</td>\n",
       "      <td>Figueroa High School</td>\n",
       "      <td>District</td>\n",
       "    </tr>\n",
       "    <tr>\n",
       "      <th>2</th>\n",
       "      <td>2</td>\n",
       "      <td>Shelton High School</td>\n",
       "      <td>Charter</td>\n",
       "    </tr>\n",
       "    <tr>\n",
       "      <th>3</th>\n",
       "      <td>3</td>\n",
       "      <td>Hernandez High School</td>\n",
       "      <td>District</td>\n",
       "    </tr>\n",
       "    <tr>\n",
       "      <th>4</th>\n",
       "      <td>4</td>\n",
       "      <td>Griffin High School</td>\n",
       "      <td>Charter</td>\n",
       "    </tr>\n",
       "  </tbody>\n",
       "</table>\n",
       "</div>"
      ],
      "text/plain": [
       "   School ID            school_name      type\n",
       "0          0   Huang High    School  District\n",
       "1          1   Figueroa High School  District\n",
       "2          2    Shelton High School   Charter\n",
       "3          3  Hernandez High School  District\n",
       "4          4    Griffin High School   Charter"
      ]
     },
     "execution_count": 14,
     "metadata": {},
     "output_type": "execute_result"
    }
   ],
   "source": [
    "#Create your first pandas dataframe:\n",
    "school_df = pd.DataFrame(high_school_dicts)\n",
    "school_df"
   ]
  },
  {
   "cell_type": "code",
   "execution_count": 15,
   "metadata": {},
   "outputs": [],
   "source": [
    "# Now, if we are given the three series in different lists, we can join all together\n",
    "#Three separate lists of information on high schools\n",
    "school_id = [0, 1, 2, 3, 4]\n",
    "\n",
    "school_name = [\"Huang High School\", \"Figueroa High School\",\n",
    "\"Shelton High School\", \"Hernandez High School\",\"Griffin High School\"]\n",
    "\n",
    "type_of_school = [\"District\", \"District\", \"Charter\", \"District\",\"Charter\"]"
   ]
  },
  {
   "cell_type": "code",
   "execution_count": 16,
   "metadata": {},
   "outputs": [],
   "source": [
    "#Initialize a new DataFrame.\n",
    "schools_df = pd.DataFrame()"
   ]
  },
  {
   "cell_type": "code",
   "execution_count": 17,
   "metadata": {},
   "outputs": [
    {
     "name": "stdout",
     "output_type": "stream",
     "text": [
      "   School ID\n",
      "0          0\n",
      "1          1\n",
      "2          2\n",
      "3          3\n",
      "4          4\n"
     ]
    }
   ],
   "source": [
    "#Add the list to a new DataFrame.\n",
    "schools_df[\"School ID\"] = school_id\n",
    "#print the dataframe\n",
    "print(schools_df)"
   ]
  },
  {
   "cell_type": "code",
   "execution_count": 18,
   "metadata": {},
   "outputs": [
    {
     "name": "stdout",
     "output_type": "stream",
     "text": [
      "   School ID            School Name      Type\n",
      "0          0      Huang High School  District\n",
      "1          1   Figueroa High School  District\n",
      "2          2    Shelton High School   Charter\n",
      "3          3  Hernandez High School  District\n",
      "4          4    Griffin High School   Charter\n"
     ]
    }
   ],
   "source": [
    "#skill drill: Add the school_name list as \"School Name\" \n",
    "#and the type_of_school list as \"Type\" to the schools_df DataFrame. Then print out the schools_df DataFrame.\n",
    "schools_df[\"School Name\"] = school_name\n",
    "schools_df[\"Type\"] = type_of_school\n",
    "print(schools_df)\n",
    "\n"
   ]
  },
  {
   "cell_type": "code",
   "execution_count": 19,
   "metadata": {},
   "outputs": [
    {
     "data": {
      "text/html": [
       "<div>\n",
       "<style scoped>\n",
       "    .dataframe tbody tr th:only-of-type {\n",
       "        vertical-align: middle;\n",
       "    }\n",
       "\n",
       "    .dataframe tbody tr th {\n",
       "        vertical-align: top;\n",
       "    }\n",
       "\n",
       "    .dataframe thead th {\n",
       "        text-align: right;\n",
       "    }\n",
       "</style>\n",
       "<table border=\"1\" class=\"dataframe\">\n",
       "  <thead>\n",
       "    <tr style=\"text-align: right;\">\n",
       "      <th></th>\n",
       "      <th>School ID</th>\n",
       "      <th>school_name</th>\n",
       "      <th>type</th>\n",
       "    </tr>\n",
       "  </thead>\n",
       "  <tbody>\n",
       "    <tr>\n",
       "      <th>0</th>\n",
       "      <td>0</td>\n",
       "      <td>Huang High School</td>\n",
       "      <td>District</td>\n",
       "    </tr>\n",
       "    <tr>\n",
       "      <th>1</th>\n",
       "      <td>1</td>\n",
       "      <td>Figueroa High School</td>\n",
       "      <td>District</td>\n",
       "    </tr>\n",
       "    <tr>\n",
       "      <th>2</th>\n",
       "      <td>2</td>\n",
       "      <td>Shelton High School</td>\n",
       "      <td>Charter</td>\n",
       "    </tr>\n",
       "    <tr>\n",
       "      <th>3</th>\n",
       "      <td>3</td>\n",
       "      <td>Hernandez High School</td>\n",
       "      <td>District</td>\n",
       "    </tr>\n",
       "    <tr>\n",
       "      <th>4</th>\n",
       "      <td>4</td>\n",
       "      <td>Griffin High School</td>\n",
       "      <td>Charter</td>\n",
       "    </tr>\n",
       "  </tbody>\n",
       "</table>\n",
       "</div>"
      ],
      "text/plain": [
       "   School ID            school_name      type\n",
       "0          0      Huang High School  District\n",
       "1          1   Figueroa High School  District\n",
       "2          2    Shelton High School   Charter\n",
       "3          3  Hernandez High School  District\n",
       "4          4    Griffin High School   Charter"
      ]
     },
     "execution_count": 19,
     "metadata": {},
     "output_type": "execute_result"
    }
   ],
   "source": [
    "#Another way to create this DataFrame is to create a Python dictionary from the three lists, like this: \n",
    "#Create a dictionary of information on high schools.\n",
    "high_schools_dict = {'School ID': school_id, 'school_name':school_name, 'type':type_of_school}\n",
    "pd.DataFrame(high_schools_dict)"
   ]
  },
  {
   "cell_type": "code",
   "execution_count": 20,
   "metadata": {},
   "outputs": [
    {
     "data": {
      "text/plain": [
       "Index(['School ID', 'School Name', 'Type'], dtype='object')"
      ]
     },
     "execution_count": 20,
     "metadata": {},
     "output_type": "execute_result"
    }
   ],
   "source": [
    "#The Anatomy of a DataFrame\n",
    "#The Columns Attribute\n",
    "schools_df.columns"
   ]
  },
  {
   "cell_type": "code",
   "execution_count": 22,
   "metadata": {},
   "outputs": [
    {
     "data": {
      "text/plain": [
       "RangeIndex(start=0, stop=5, step=1)"
      ]
     },
     "execution_count": 22,
     "metadata": {},
     "output_type": "execute_result"
    }
   ],
   "source": [
    "#The Index Attribute\n",
    "schools_df.index"
   ]
  },
  {
   "cell_type": "code",
   "execution_count": 24,
   "metadata": {},
   "outputs": [
    {
     "data": {
      "text/plain": [
       "array([[0, 'Huang High School', 'District'],\n",
       "       [1, 'Figueroa High School', 'District'],\n",
       "       [2, 'Shelton High School', 'Charter'],\n",
       "       [3, 'Hernandez High School', 'District'],\n",
       "       [4, 'Griffin High School', 'Charter']], dtype=object)"
      ]
     },
     "execution_count": 24,
     "metadata": {},
     "output_type": "execute_result"
    }
   ],
   "source": [
    "#The Values Attribute\n",
    "schools_df.values "
   ]
  },
  {
   "cell_type": "code",
   "execution_count": 40,
   "metadata": {},
   "outputs": [
    {
     "name": "stdout",
     "output_type": "stream",
     "text": [
      "    School ID\n",
      "0           0\n",
      "1           1\n",
      "2           2\n",
      "3           3\n",
      "4           4\n",
      "5           5\n",
      "6           6\n",
      "7           7\n",
      "8           8\n",
      "9           9\n",
      "10         10\n",
      "11         11\n",
      "12         12\n",
      "13         13\n",
      "14         14\n"
     ]
    }
   ],
   "source": [
    "#Based on the following image, create a list for each column and add each list to a new Pandas DataFrame.\n",
    "school_id = [0, 1, 2, 3, 4, 5, 6, 7, 8, 9, 10, 11, 12, 13, 14]\n",
    "school_name = [\"Huang\", \"Figueroa\", \"Shelton\", \"Hernandez\", \"griffin\", \"Wilson\", \"Cabrera\", \"Bailey\", \"Holden\", \"Pena\", \"Wright\", \"Rodriguez\", \"Johnson\", \"Ford\", \"Thomas\"]\n",
    "Typess = [\"D\", \"D\", \"Ch\", \"D\", \"Ch\", \"Ch\", \"Ch\", \"D\", \"Ch\", \"Ch\", \"D\", \"D\", \"D\", \"Ch\", \"Ch\"]\n",
    "\n",
    "new_dataframe = pd.DataFrame()\n",
    "new_dataframe[\"School ID\"] = school_id\n",
    "print(new_dataframe)"
   ]
  },
  {
   "cell_type": "code",
   "execution_count": 41,
   "metadata": {},
   "outputs": [
    {
     "name": "stdout",
     "output_type": "stream",
     "text": [
      "    School ID School Name\n",
      "0           0       Huang\n",
      "1           1    Figueroa\n",
      "2           2     Shelton\n",
      "3           3   Hernandez\n",
      "4           4     griffin\n",
      "5           5      Wilson\n",
      "6           6     Cabrera\n",
      "7           7      Bailey\n",
      "8           8      Holden\n",
      "9           9        Pena\n",
      "10         10      Wright\n",
      "11         11   Rodriguez\n",
      "12         12     Johnson\n",
      "13         13        Ford\n",
      "14         14      Thomas\n"
     ]
    }
   ],
   "source": [
    "new_dataframe[\"School Name\"] = school_name\n",
    "print(new_dataframe)"
   ]
  },
  {
   "cell_type": "code",
   "execution_count": 42,
   "metadata": {},
   "outputs": [
    {
     "name": "stdout",
     "output_type": "stream",
     "text": [
      "    School ID School Name Type\n",
      "0           0       Huang    D\n",
      "1           1    Figueroa    D\n",
      "2           2     Shelton   Ch\n",
      "3           3   Hernandez    D\n",
      "4           4     griffin   Ch\n",
      "5           5      Wilson   Ch\n",
      "6           6     Cabrera   Ch\n",
      "7           7      Bailey    D\n",
      "8           8      Holden   Ch\n",
      "9           9        Pena   Ch\n",
      "10         10      Wright    D\n",
      "11         11   Rodriguez    D\n",
      "12         12     Johnson    D\n",
      "13         13        Ford   Ch\n",
      "14         14      Thomas   Ch\n"
     ]
    }
   ],
   "source": [
    "new_dataframe[\"Type\"] = Typess\n",
    "print(new_dataframe)"
   ]
  },
  {
   "cell_type": "code",
   "execution_count": null,
   "metadata": {},
   "outputs": [],
   "source": []
  }
 ],
 "metadata": {
  "kernelspec": {
   "display_name": "PythonData",
   "language": "python",
   "name": "pythondata"
  },
  "language_info": {
   "codemirror_mode": {
    "name": "ipython",
    "version": 3
   },
   "file_extension": ".py",
   "mimetype": "text/x-python",
   "name": "python",
   "nbconvert_exporter": "python",
   "pygments_lexer": "ipython3",
   "version": "3.7.6"
  }
 },
 "nbformat": 4,
 "nbformat_minor": 4
}
